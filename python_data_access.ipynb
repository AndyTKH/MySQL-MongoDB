{
 "cells": [
  {
   "cell_type": "markdown",
   "id": "ea801506",
   "metadata": {},
   "source": [
    "# Let's try MySQLdb\n",
    "Before we start MySQL in python, make sure you have installed MySQL, and turned on the MySQL server instance. To install mysql, Simply open up your terminal and type `sudo install mysql-server` , you may need to enter administration password to finish the installation. Next, type `sudo mysql -u root` to log on to MySQL. Once you have logged in, you may create a database, user and a password to authorise interaction with the database as follows: \n",
    "1. `CREATE DATABASE sql_master;`\n",
    "2. `USE sql_master;` \n",
    "3. `CREATE USER 'sec_user'@'localhost' IDENTIFIED BY '9008';`\n",
    "4. `GRANT ALL PRIVILEGES ON sql_master.* TO 'sec_user'@'localhost';`\n",
    "5. `FLUSH PRIVILEGES;`\n",
    "\n",
    "The above steps authorise sec_user to interact with the database. Hence, below we will create a new table, insert data, and update data.   "
   ]
  },
  {
   "cell_type": "markdown",
   "id": "c90b965d",
   "metadata": {},
   "source": [
    "## Create a new table in MySQL Database"
   ]
  },
  {
   "cell_type": "code",
   "execution_count": 28,
   "id": "ee2b8ef2",
   "metadata": {},
   "outputs": [
    {
     "name": "stdout",
     "output_type": "stream",
     "text": [
      "Table Created!!!\n"
     ]
    }
   ],
   "source": [
    "import MySQLdb as mdb\n",
    "\n",
    "# Obtain a database connection to the MySQL instance\n",
    "db_host = 'localhost'\n",
    "db_user = 'sec_user'\n",
    "db_pass = '9008'\n",
    "db_name = 'sql_master'\n",
    "con = mdb.connect(db_host, db_user, db_pass, db_name)\n",
    "\n",
    "\n",
    "sql = \"\"\"CREATE TABLE IF NOT EXISTS daily_google_price( \n",
    "    price_date datetime NOT NULL, \n",
    "    open_price decimal(19,4) NULL, \n",
    "    high_price decimal(19,4) NULL, \n",
    "    low_price decimal(19,4) NULL, \n",
    "    close_price decimal(19,4) NULL, \n",
    "    adjusted_close_price decimal(19,4) NULL, \n",
    "    volume bigint NULL)\"\"\"\n",
    "# create a new table named daily_google_price if it does not exist  \n",
    "# decimal(19,4) means 19 digits and 4 decimal places, this avoids rounding error\n",
    "# bigint allows large number such as trading volume \n",
    "\n",
    "with con: \n",
    "    cur = con.cursor()\n",
    "    cur.execute(sql)\n",
    "    con.commit()\n",
    "    print(\"Table Created!!!\")"
   ]
  },
  {
   "cell_type": "markdown",
   "id": "d7e6bf50",
   "metadata": {},
   "source": [
    "## Download and pre-process financial data "
   ]
  },
  {
   "cell_type": "code",
   "execution_count": 22,
   "id": "69d28a98",
   "metadata": {},
   "outputs": [
    {
     "name": "stdout",
     "output_type": "stream",
     "text": [
      "raw data:                    High          Low         Open        Close   Volume  \\\n",
      "Date                                                                      \n",
      "2015-12-31   769.500000   758.340027   769.500000   758.880005  1500900   \n",
      "2016-01-04   744.059998   731.257996   743.000000   741.840027  3272800   \n",
      "2016-01-05   752.000000   738.640015   746.450012   742.580017  1950700   \n",
      "2016-01-06   747.179993   728.919983   730.000000   743.619995  1947000   \n",
      "2016-01-07   738.500000   719.059998   730.309998   726.390015  2963700   \n",
      "...                 ...          ...          ...          ...      ...   \n",
      "2020-12-24  1746.000000  1729.109985  1735.000000  1738.849976   346800   \n",
      "2020-12-28  1790.728027  1746.334961  1751.635010  1776.089966  1393000   \n",
      "2020-12-29  1792.439941  1756.089966  1787.790039  1758.719971  1299400   \n",
      "2020-12-30  1765.094971  1725.599976  1762.010010  1739.520020  1306100   \n",
      "2020-12-31  1758.930054  1735.420044  1735.420044  1751.880005  1011900   \n",
      "\n",
      "              Adj Close  \n",
      "Date                     \n",
      "2015-12-31   758.880005  \n",
      "2016-01-04   741.840027  \n",
      "2016-01-05   742.580017  \n",
      "2016-01-06   743.619995  \n",
      "2016-01-07   726.390015  \n",
      "...                 ...  \n",
      "2020-12-24  1738.849976  \n",
      "2020-12-28  1776.089966  \n",
      "2020-12-29  1758.719971  \n",
      "2020-12-30  1739.520020  \n",
      "2020-12-31  1751.880005  \n",
      "\n",
      "[1260 rows x 6 columns]\n",
      "Preprocessed data: [(Timestamp('2015-12-31 00:00:00'), 769.5, 758.3400268554688, 769.5, 758.8800048828125, 1500900, 758.8800048828125), (Timestamp('2016-01-04 00:00:00'), 744.0599975585938, 731.2579956054688, 743.0, 741.8400268554688, 3272800, 741.8400268554688), (Timestamp('2016-01-05 00:00:00'), 752.0, 738.6400146484375, 746.4500122070312, 742.5800170898438, 1950700, 742.5800170898438), (Timestamp('2016-01-06 00:00:00'), 747.1799926757812, 728.9199829101562, 730.0, 743.6199951171875, 1947000, 743.6199951171875), (Timestamp('2016-01-07 00:00:00'), 738.5, 719.0599975585938, 730.3099975585938, 726.3900146484375, 2963700, 726.3900146484375), (Timestamp('2016-01-08 00:00:00'), 733.22998046875, 713.0, 731.4500122070312, 714.469970703125, 2450900, 714.469970703125), (Timestamp('2016-01-11 00:00:00'), 718.85498046875, 703.5399780273438, 716.6099853515625, 716.030029296875, 2090600, 716.030029296875), (Timestamp('2016-01-12 00:00:00'), 728.75, 717.3170166015625, 721.6799926757812, 726.0700073242188, 2024500, 726.0700073242188), (Timestamp('2016-01-13 00:00:00'), 734.739990234375, 698.6099853515625, 730.8499755859375, 700.5599975585938, 2501700, 700.5599975585938), (Timestamp('2016-01-14 00:00:00'), 721.9249877929688, 689.0999755859375, 705.3800048828125, 714.719970703125, 2225800, 714.719970703125)]\n"
     ]
    }
   ],
   "source": [
    "import datetime\n",
    "import pandas_datareader.data as data\n",
    "\n",
    "start = datetime.datetime(2016, 1, 1)\n",
    "end = datetime.datetime(2020, 12, 31)\n",
    "google_data = data.DataReader(\"GOOG\", \"yahoo\", start, end)\n",
    "print(\"raw data:\", google_data)\n",
    "\n",
    "prices = []\n",
    "for y in range(len(google_data)): \n",
    "    prices.append((google_data.index[y], google_data[\"High\"][y], google_data[\"Low\"][y], google_data[\"Open\"][y], \n",
    "                  google_data[\"Close\"][y], google_data[\"Volume\"][y], google_data[\"Adj Close\"][y]))\n",
    "print(\"Preprocessed data:\",prices[0:10])"
   ]
  },
  {
   "cell_type": "markdown",
   "id": "24117b80",
   "metadata": {},
   "source": [
    "## Insert data into mysql table"
   ]
  },
  {
   "cell_type": "code",
   "execution_count": 29,
   "id": "774934c9",
   "metadata": {
    "scrolled": true
   },
   "outputs": [
    {
     "name": "stdout",
     "output_type": "stream",
     "text": [
      "     price_date  open_price  high_price  low_price  close_price  \\\n",
      "0    2015-12-31    769.5000     758.340    769.500       758.88   \n",
      "1    2016-01-04    744.0600     731.258    743.000       741.84   \n",
      "2    2016-01-05    752.0000     738.640    746.450       742.58   \n",
      "3    2016-01-06    747.1800     728.920    730.000       743.62   \n",
      "4    2016-01-07    738.5000     719.060    730.310       726.39   \n",
      "...         ...         ...         ...        ...          ...   \n",
      "1255 2020-12-24   1746.0000    1729.110   1735.000      1738.85   \n",
      "1256 2020-12-28   1790.7280    1746.335   1751.635      1776.09   \n",
      "1257 2020-12-29   1792.4399    1756.090   1787.790      1758.72   \n",
      "1258 2020-12-30   1765.0950    1725.600   1762.010      1739.52   \n",
      "1259 2020-12-31   1758.9301    1735.420   1735.420      1751.88   \n",
      "\n",
      "      adjusted_close_price   volume  \n",
      "0                   758.88  1500900  \n",
      "1                   741.84  3272800  \n",
      "2                   742.58  1950700  \n",
      "3                   743.62  1947000  \n",
      "4                   726.39  2963700  \n",
      "...                    ...      ...  \n",
      "1255               1738.85   346800  \n",
      "1256               1776.09  1393000  \n",
      "1257               1758.72  1299400  \n",
      "1258               1739.52  1306100  \n",
      "1259               1751.88  1011900  \n",
      "\n",
      "[1260 rows x 7 columns]\n",
      "data saved in database!\n"
     ]
    }
   ],
   "source": [
    "import pandas as pd\n",
    "\n",
    "count = 0\n",
    "for data in prices:\n",
    "    daily_data = data[0], data[1], data[2], data[3], data[4], data[6], data[5]\n",
    "    \n",
    "    sql = \"\"\"INSERT INTO daily_google_price( price_date, open_price, high_price, low_price, \n",
    "        close_price, adjusted_close_price, volume) \n",
    "        VALUES ('%s', '%s', '%s', '%s', '%s', '%s', '%s')\"\"\" %(daily_data) \n",
    "    \n",
    "    # Obtain a database connection to the MySQL instance\n",
    "    db_host = 'localhost'\n",
    "    db_user = 'sec_user'\n",
    "    db_pass = '9008'\n",
    "    db_name = 'sql_master'\n",
    "    con = mdb.connect(db_host, db_user, db_pass, db_name)\n",
    " \n",
    "    with con: \n",
    "        cur = con.cursor()\n",
    "        cur.execute(sql)\n",
    "        con.commit()\n",
    "        count += 1\n",
    "        \n",
    "        # print the table when it is done inserting \n",
    "        if count == len(prices):\n",
    "            sql2 = \"SELECT * FROM daily_google_price\"\n",
    "            googling = pd.read_sql_query(sql2, con=con)#, index_col= 'price_date')\n",
    "            print(googling) \n",
    "            \n",
    "print(\"data saved in database!\")"
   ]
  },
  {
   "cell_type": "markdown",
   "id": "b8eab4e8",
   "metadata": {},
   "source": [
    "## Delete row that satisfied the condition"
   ]
  },
  {
   "cell_type": "code",
   "execution_count": 71,
   "id": "2bbc3cee",
   "metadata": {},
   "outputs": [
    {
     "name": "stdout",
     "output_type": "stream",
     "text": [
      "            open_price  high_price  low_price  close_price  \\\n",
      "price_date                                                   \n",
      "2016-01-26    718.2800     706.480    713.850       713.04   \n",
      "2016-03-09    705.6800     694.000    698.470       705.24   \n",
      "2016-03-22    745.0000     737.460    737.460       740.75   \n",
      "2016-03-23    745.7200     736.150    742.360       738.06   \n",
      "2016-03-28    738.9900     732.500    736.790       733.53   \n",
      "...                ...         ...        ...          ...   \n",
      "2020-12-24   1746.0000    1729.110   1735.000      1738.85   \n",
      "2020-12-28   1790.7280    1746.335   1751.635      1776.09   \n",
      "2020-12-29   1792.4399    1756.090   1787.790      1758.72   \n",
      "2020-12-30   1765.0950    1725.600   1762.010      1739.52   \n",
      "2020-12-31   1758.9301    1735.420   1735.420      1751.88   \n",
      "\n",
      "            adjusted_close_price   volume  \n",
      "price_date                                 \n",
      "2016-01-26                713.04  1331700  \n",
      "2016-03-09                705.24  1421500  \n",
      "2016-03-22                740.75  1269700  \n",
      "2016-03-23                738.06  1432100  \n",
      "2016-03-28                733.53  1301300  \n",
      "...                          ...      ...  \n",
      "2020-12-24               1738.85   346800  \n",
      "2020-12-28               1776.09  1393000  \n",
      "2020-12-29               1758.72  1299400  \n",
      "2020-12-30               1739.52  1306100  \n",
      "2020-12-31               1751.88  1011900  \n",
      "\n",
      "[663 rows x 6 columns]\n"
     ]
    }
   ],
   "source": [
    "# Obtain a database connection to the MySQL instance\n",
    "db_host = 'localhost'\n",
    "db_user = 'sec_user'\n",
    "db_pass = '9008'\n",
    "db_name = 'sql_master'\n",
    "con = mdb.connect(db_host, db_user, db_pass, db_name)\n",
    "    \n",
    "sql = \"\"\"DELETE FROM daily_google_price WHERE volume>1500000\"\"\"\n",
    "with con:\n",
    "    cur = con.cursor()\n",
    "    cur.execute(sql)\n",
    "    con.commit()\n",
    "    sql2 = \"SELECT * FROM daily_google_price\"\n",
    "    googling = pd.read_sql_query(sql2, con=con, index_col= 'price_date')\n",
    "    print(googling)\n",
    "    \n"
   ]
  },
  {
   "cell_type": "markdown",
   "id": "cf4aac91",
   "metadata": {},
   "source": [
    "**Note:** Notice from the output above, when we specify delete rows with volume > 1500000 , we deleted nearly half of the data, from 1260 rows to 663 rows.  "
   ]
  },
  {
   "cell_type": "markdown",
   "id": "75a95baa",
   "metadata": {},
   "source": [
    "## Add new column to table"
   ]
  },
  {
   "cell_type": "code",
   "execution_count": 11,
   "id": "f2a6c268",
   "metadata": {},
   "outputs": [
    {
     "name": "stdout",
     "output_type": "stream",
     "text": [
      "            open_price  high_price  low_price  close_price  \\\n",
      "price_date                                                   \n",
      "2016-01-26    718.2800     706.480    713.850       713.04   \n",
      "2016-03-09    705.6800     694.000    698.470       705.24   \n",
      "2016-03-22    745.0000     737.460    737.460       740.75   \n",
      "2016-03-23    745.7200     736.150    742.360       738.06   \n",
      "2016-03-28    738.9900     732.500    736.790       733.53   \n",
      "...                ...         ...        ...          ...   \n",
      "2020-12-24   1746.0000    1729.110   1735.000      1738.85   \n",
      "2020-12-28   1790.7280    1746.335   1751.635      1776.09   \n",
      "2020-12-29   1792.4399    1756.090   1787.790      1758.72   \n",
      "2020-12-30   1765.0950    1725.600   1762.010      1739.52   \n",
      "2020-12-31   1758.9301    1735.420   1735.420      1751.88   \n",
      "\n",
      "            adjusted_close_price   volume Exchange  \n",
      "price_date                                          \n",
      "2016-01-26                713.04  1331700   NASDAQ  \n",
      "2016-03-09                705.24  1421500   NASDAQ  \n",
      "2016-03-22                740.75  1269700   NASDAQ  \n",
      "2016-03-23                738.06  1432100   NASDAQ  \n",
      "2016-03-28                733.53  1301300   NASDAQ  \n",
      "...                          ...      ...      ...  \n",
      "2020-12-24               1738.85   346800   NASDAQ  \n",
      "2020-12-28               1776.09  1393000   NASDAQ  \n",
      "2020-12-29               1758.72  1299400   NASDAQ  \n",
      "2020-12-30               1739.52  1306100   NASDAQ  \n",
      "2020-12-31               1751.88  1011900   NASDAQ  \n",
      "\n",
      "[663 rows x 7 columns]\n"
     ]
    }
   ],
   "source": [
    "# Obtain a database connection to the MySQL instance\n",
    "db_host = 'localhost'\n",
    "db_user = 'sec_user'\n",
    "db_pass = '9008'\n",
    "db_name = 'sql_master'\n",
    "con = mdb.connect(db_host, db_user, db_pass, db_name)\n",
    "    \n",
    "sql = \"\"\"ALTER TABLE daily_google_price ADD Exchange Varchar(255) \"\"\"\n",
    "sql2 = \"\"\"UPDATE daily_google_price SET Exchange = 'NASDAQ' \"\"\"\n",
    "\n",
    "cur = con.cursor()\n",
    "cur.execute(sql)\n",
    "cur.execute(sql2)\n",
    "con.commit()\n",
    "\n",
    "googling = pd.read_sql_query(\"SELECT * FROM daily_google_price\", con=con, index_col= 'price_date')\n",
    "print(googling)"
   ]
  },
  {
   "cell_type": "markdown",
   "id": "2ba2434c",
   "metadata": {},
   "source": [
    "## Delete column from mysql table"
   ]
  },
  {
   "cell_type": "code",
   "execution_count": 12,
   "id": "0856b039",
   "metadata": {},
   "outputs": [
    {
     "name": "stdout",
     "output_type": "stream",
     "text": [
      "            open_price  high_price  low_price  close_price  \\\n",
      "price_date                                                   \n",
      "2016-01-26    718.2800     706.480    713.850       713.04   \n",
      "2016-03-09    705.6800     694.000    698.470       705.24   \n",
      "2016-03-22    745.0000     737.460    737.460       740.75   \n",
      "2016-03-23    745.7200     736.150    742.360       738.06   \n",
      "2016-03-28    738.9900     732.500    736.790       733.53   \n",
      "...                ...         ...        ...          ...   \n",
      "2020-12-24   1746.0000    1729.110   1735.000      1738.85   \n",
      "2020-12-28   1790.7280    1746.335   1751.635      1776.09   \n",
      "2020-12-29   1792.4399    1756.090   1787.790      1758.72   \n",
      "2020-12-30   1765.0950    1725.600   1762.010      1739.52   \n",
      "2020-12-31   1758.9301    1735.420   1735.420      1751.88   \n",
      "\n",
      "            adjusted_close_price   volume  \n",
      "price_date                                 \n",
      "2016-01-26                713.04  1331700  \n",
      "2016-03-09                705.24  1421500  \n",
      "2016-03-22                740.75  1269700  \n",
      "2016-03-23                738.06  1432100  \n",
      "2016-03-28                733.53  1301300  \n",
      "...                          ...      ...  \n",
      "2020-12-24               1738.85   346800  \n",
      "2020-12-28               1776.09  1393000  \n",
      "2020-12-29               1758.72  1299400  \n",
      "2020-12-30               1739.52  1306100  \n",
      "2020-12-31               1751.88  1011900  \n",
      "\n",
      "[663 rows x 6 columns]\n"
     ]
    }
   ],
   "source": [
    "# Obtain a database connection to the MySQL instance\n",
    "db_host = 'localhost'\n",
    "db_user = 'sec_user'\n",
    "db_pass = '9008'\n",
    "db_name = 'sql_master'\n",
    "con = mdb.connect(db_host, db_user, db_pass, db_name)\n",
    "    \n",
    "sql = \"\"\"ALTER TABLE daily_google_price DROP Exchange\"\"\"\n",
    "\n",
    "cur = con.cursor()\n",
    "cur.execute(sql)\n",
    "con.commit()\n",
    "\n",
    "googling = pd.read_sql_query(\"SELECT * FROM daily_google_price\", con=con, index_col= 'price_date')\n",
    "print(googling)"
   ]
  },
  {
   "cell_type": "markdown",
   "id": "c4a028ef",
   "metadata": {},
   "source": [
    "## Drop tables in your database"
   ]
  },
  {
   "cell_type": "code",
   "execution_count": 30,
   "id": "62f1dc93",
   "metadata": {},
   "outputs": [
    {
     "name": "stdout",
     "output_type": "stream",
     "text": [
      "Here's the tables we have in our database: \n",
      "(('‘daily_price‘',), ('daily_google_price',))\n",
      "Drop table in progress...\n",
      "\n",
      "Database table: \n",
      "(('‘daily_price‘',),)\n",
      "We have dropped the daily google price table!!\n"
     ]
    }
   ],
   "source": [
    "db_host = 'localhost'\n",
    "db_user = 'sec_user'\n",
    "db_pass = '9008'\n",
    "db_name = 'sql_master'\n",
    "con = mdb.connect(db_host, db_user, db_pass, db_name)\n",
    "\n",
    "# See existing tables in your database\n",
    "cur = con.cursor()\n",
    "cur.execute(\"\"\"SHOW Tables\"\"\")\n",
    "print(\"Here's the tables we have in our database: \")\n",
    "print(cur.fetchall())\n",
    "\n",
    "cur.execute(\"\"\"DROP TABLE daily_google_price\"\"\")\n",
    "con.commit()\n",
    "print(\"Drop table in progress...\\n\")\n",
    "\n",
    "# Check our database table now\n",
    "print(\"Database table: \")\n",
    "cur.execute(\"\"\"SHOW Tables\"\"\")\n",
    "print(cur.fetchall())\n",
    "print(\"We have dropped the daily google price table!!\")"
   ]
  },
  {
   "cell_type": "markdown",
   "id": "726028fe",
   "metadata": {},
   "source": [
    "# Lets try MongoDB\n",
    "Before we start connecting to MongoDB in python, make sure you have installed MongoDB, and successfully run `sudo mongod` on your terminal to accept connection from the 27017 port. Below MongoDB database tutorial for python is inspired by **https://www.tutorialspoint.com/python_data_access/**, and it is also a self-learning practice. After you are done, it is wise to run `ps wuax | grep mongo` and `sudo kill (instance number)` to terminate the connection completely. "
   ]
  },
  {
   "cell_type": "markdown",
   "id": "261d1ddb",
   "metadata": {},
   "source": [
    "## Create Database and Collection, then insert data into Collection"
   ]
  },
  {
   "cell_type": "code",
   "execution_count": 33,
   "id": "20903fd5",
   "metadata": {},
   "outputs": [
    {
     "name": "stdout",
     "output_type": "stream",
     "text": [
      "Database created!\n",
      "List of Mongo databases:\n",
      "['local', 'mongo_database']\n",
      "\n",
      "\n",
      "collection(mongodb_table) created!\n",
      "Data inserted!\n",
      "{'_id': ObjectId('612da6aa261ab319fa8517c2'), 'id': '101', 'stock': 'Google', 'price': '26', 'exchange': 'London'}\n",
      "{'_id': ObjectId('612da6aa261ab319fa8517c3'), 'id': '102', 'stock': 'Facebook', 'price': '27', 'exchange': 'Nasdaq'}\n",
      "{'_id': ObjectId('612da6aa261ab319fa8517c4'), 'id': '103', 'stock': 'Microsoft', 'price': '28', 'exchange': 'Dow'}\n"
     ]
    }
   ],
   "source": [
    "import pymongo\n",
    "from pymongo import MongoClient\n",
    "\n",
    "#Creating a pymongo client\n",
    "client = MongoClient('localhost', 27017)\n",
    "\n",
    "#Getting the database instance\n",
    "db = client['mongo_database']\n",
    "print(\"Database created!\")\n",
    "\n",
    "#Verification\n",
    "print(\"List of Mongo databases:\")\n",
    "print(client.list_database_names())\n",
    "print(\"\\n\")\n",
    "\n",
    "#Creating a collection \n",
    "collection = db['mongodb_table']\n",
    "print(\"collection(mongodb_table) created!\")\n",
    "\n",
    "data = [\n",
    "   {\n",
    "      \"id\": \"101\", \n",
    "      \"stock\": \"Google\", \n",
    "      \"price\": \"26\", \n",
    "      \"exchange\": \"London\"\n",
    "   },\n",
    "   {\n",
    "      \"id\": \"102\", \n",
    "      \"stock\": \"Facebook\", \n",
    "      \"price\": \"27\", \n",
    "      \"exchange\": \"Nasdaq\"\n",
    "   },\n",
    "   {\n",
    "      \"id\": \"103\", \n",
    "      \"stock\": \"Microsoft\", \n",
    "      \"price\": \"28\", \n",
    "      \"exchange\": \"Dow\"\n",
    "   }\n",
    "]\n",
    "\n",
    "res = collection.insert_many(data)\n",
    "print(\"Data inserted!\")\n",
    "for record in collection.find():\n",
    "    print(record)"
   ]
  },
  {
   "cell_type": "markdown",
   "id": "a5d71748",
   "metadata": {},
   "source": [
    "## Retrieve data from Mongo Collection"
   ]
  },
  {
   "cell_type": "code",
   "execution_count": 35,
   "id": "d7e99dce",
   "metadata": {
    "scrolled": true
   },
   "outputs": [
    {
     "name": "stdout",
     "output_type": "stream",
     "text": [
      "all record data:\n",
      "{'_id': ObjectId('612da6aa261ab319fa8517c2'), 'id': '101', 'stock': 'Google', 'price': '26', 'exchange': 'London'}\n",
      "{'_id': ObjectId('612da6aa261ab319fa8517c3'), 'id': '102', 'stock': 'Facebook', 'price': '27', 'exchange': 'Nasdaq'}\n",
      "{'_id': ObjectId('612da6aa261ab319fa8517c4'), 'id': '103', 'stock': 'Microsoft', 'price': '28', 'exchange': 'Dow'}\n",
      "\n",
      "\n",
      "Record for google: \n",
      "{'_id': ObjectId('612da6aa261ab319fa8517c2'), 'id': '101', 'stock': 'Google', 'price': '26', 'exchange': 'London'}\n",
      "\n",
      "\n",
      "Retrieve Stock price greater than 26:\n",
      "{'_id': ObjectId('612da6aa261ab319fa8517c3'), 'id': '102', 'stock': 'Facebook', 'price': '27', 'exchange': 'Nasdaq'}\n",
      "{'_id': ObjectId('612da6aa261ab319fa8517c4'), 'id': '103', 'stock': 'Microsoft', 'price': '28', 'exchange': 'Dow'}\n"
     ]
    }
   ],
   "source": [
    "#Retrieving all our data \n",
    "print(\"all record data:\")\n",
    "for record in collection.find():\n",
    "    print(record)\n",
    "print(\"\\n\")\n",
    "\n",
    "#Retrieving a record for Google stock using the find_one() method\n",
    "print(\"Record for google: \")\n",
    "print(collection.find_one({\"exchange\": \"London\"}))\n",
    "print(\"\\n\")\n",
    "\n",
    "# Retrieving record that has stock price greater than 26 \n",
    "print(\"Retrieve Stock price greater than 26:\")\n",
    "for i in collection.find({\"price\":{\"$gt\":\"26\"}}):\n",
    "    print(i)"
   ]
  },
  {
   "cell_type": "markdown",
   "id": "0959a85b",
   "metadata": {},
   "source": [
    "## Delete rows that satisfy the condition"
   ]
  },
  {
   "cell_type": "code",
   "execution_count": 36,
   "id": "784e8793",
   "metadata": {},
   "outputs": [
    {
     "name": "stdout",
     "output_type": "stream",
     "text": [
      "After deleting the row, we have:\n",
      "{'_id': ObjectId('612da6aa261ab319fa8517c2'), 'id': '101', 'stock': 'Google', 'price': '26', 'exchange': 'London'}\n",
      "{'_id': ObjectId('612da6aa261ab319fa8517c3'), 'id': '102', 'stock': 'Facebook', 'price': '27', 'exchange': 'Nasdaq'}\n"
     ]
    }
   ],
   "source": [
    "#Deleting multiple documents\n",
    "collection.delete_many({\"stock\":\"Microsoft\"})\n",
    "print(\"After deleting the row, we have:\")\n",
    "for i in collection.find():\n",
    "    print(i)"
   ]
  },
  {
   "cell_type": "markdown",
   "id": "c427e6db",
   "metadata": {},
   "source": [
    "## Add one column to the table"
   ]
  },
  {
   "cell_type": "code",
   "execution_count": 39,
   "id": "a68a0ff5",
   "metadata": {},
   "outputs": [
    {
     "name": "stdout",
     "output_type": "stream",
     "text": [
      "After Adding volume column:\n",
      "{'_id': ObjectId('612da6aa261ab319fa8517c2'), 'id': '101', 'stock': 'Google', 'price': '26', 'exchange': 'London', 'volume': '10000'}\n",
      "{'_id': ObjectId('612da6aa261ab319fa8517c3'), 'id': '102', 'stock': 'Facebook', 'price': '27', 'exchange': 'Nasdaq', 'volume': '10000'}\n"
     ]
    }
   ],
   "source": [
    "collection.update_many({},{\"$set\":{\"volume\":\"10000\"}})\n",
    "print(\"After Adding volume column:\")\n",
    "for i in collection.find():\n",
    "    print(i)"
   ]
  },
  {
   "cell_type": "markdown",
   "id": "5552df4f",
   "metadata": {},
   "source": [
    "## Delete other collection in our Mongo Database "
   ]
  },
  {
   "cell_type": "code",
   "execution_count": 37,
   "id": "3e9a564d",
   "metadata": {},
   "outputs": [
    {
     "name": "stdout",
     "output_type": "stream",
     "text": [
      "['mongo_db', 'mongo_table', 'mongodb_table', 'system.indexes']\n"
     ]
    }
   ],
   "source": [
    "print(db.list_collection_names())"
   ]
  },
  {
   "cell_type": "code",
   "execution_count": 38,
   "id": "f9dadb4e",
   "metadata": {},
   "outputs": [
    {
     "name": "stdout",
     "output_type": "stream",
     "text": [
      "Collection in our database:\n",
      "['mongo_db', 'mongo_table', 'mongodb_table', 'system.indexes']\n",
      "\n",
      "\n",
      "After dropping one of them:\n",
      "['mongo_table', 'mongodb_table', 'system.indexes']\n"
     ]
    }
   ],
   "source": [
    "print(\"Collection in our database:\")\n",
    "print(db.list_collection_names())\n",
    "print(\"\\n\")\n",
    "example = db['mongo_db']\n",
    "example.drop()\n",
    "print(\"After dropping one of them:\")\n",
    "print(db.list_collection_names())"
   ]
  },
  {
   "cell_type": "code",
   "execution_count": null,
   "id": "b541d24f",
   "metadata": {},
   "outputs": [],
   "source": []
  }
 ],
 "metadata": {
  "kernelspec": {
   "display_name": "Python 3 (ipykernel)",
   "language": "python",
   "name": "python3"
  },
  "language_info": {
   "codemirror_mode": {
    "name": "ipython",
    "version": 3
   },
   "file_extension": ".py",
   "mimetype": "text/x-python",
   "name": "python",
   "nbconvert_exporter": "python",
   "pygments_lexer": "ipython3",
   "version": "3.9.6"
  }
 },
 "nbformat": 4,
 "nbformat_minor": 5
}
