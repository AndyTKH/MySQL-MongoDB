{
 "cells": [
  {
   "cell_type": "markdown",
   "id": "ea801506",
   "metadata": {},
   "source": [
    "# Let's try MySQLdb\n",
    "Before we start MySQL in python, make sure you have installed MySQL, and turned on the MySQL server instance. To install mysql, Simply open up your terminal and type `sudo install mysql-server` , you may need to enter administration password to finish the installation. Next, type `sudo mysql -u root` to log on to MySQL. Once you have logged in, you may create a database, user and a password to authorise interaction with the database, the instructions are shown below: \n",
    "1. `CREATE DATABASE sql_master;`\n",
    "2. `USE sql_master;` \n",
    "3. `CREATE USER 'sec_user'@'localhost' IDENTIFIED BY '9008';`\n",
    "4. `GRANT ALL PRIVILEGES ON sql_master.* TO 'sec_user'@'localhost';`\n",
    "5. `FLUSH PRIVILEGES;`\n",
    "\n",
    "The above steps authorise `sec_user` to interact with the database. Next, we will learn how to create a new table, insert data into our table, as well as updating our data.   "
   ]
  },
  {
   "cell_type": "markdown",
   "id": "1892a213",
   "metadata": {},
   "source": [
    "## Create a new table in MySQL Database"
   ]
  },
  {
   "cell_type": "code",
   "execution_count": 41,
   "id": "3fa348e4",
   "metadata": {},
   "outputs": [
    {
     "name": "stdout",
     "output_type": "stream",
     "text": [
      "Table Created!!!\n"
     ]
    }
   ],
   "source": [
    "import MySQLdb as mdb\n",
    "\n",
    "# Obtain a database connection to the MySQL instance\n",
    "db_host = 'localhost'\n",
    "db_user = 'sec_user'\n",
    "db_pass = '9008'\n",
    "db_name = 'sql_master'\n",
    "con = mdb.connect(db_host, db_user, db_pass, db_name)\n",
    "\n",
    "\n",
    "sql = \"\"\"CREATE TABLE IF NOT EXISTS daily_google_price( \n",
    "    price_date datetime NOT NULL, \n",
    "    open_price decimal(19,4) NULL, \n",
    "    high_price decimal(19,4) NULL, \n",
    "    low_price decimal(19,4) NULL, \n",
    "    close_price decimal(19,4) NULL, \n",
    "    adjusted_close_price decimal(19,4) NULL, \n",
    "    volume bigint NULL)\"\"\"\n",
    "# create a new table named daily_google_price if it does not exist  \n",
    "# decimal(19,4) means 19 digits and 4 decimal places, this avoids rounding error\n",
    "# bigint allows large number such as trading volume \n",
    "\n",
    "with con: \n",
    "    cur = con.cursor()\n",
    "    cur.execute(sql)\n",
    "    con.commit()\n",
    "    print(\"Table Created!!!\")"
   ]
  },
  {
   "cell_type": "markdown",
   "id": "757357ef",
   "metadata": {},
   "source": [
    "## Download and pre-process financial data "
   ]
  },
  {
   "cell_type": "code",
   "execution_count": 42,
   "id": "69d28a98",
   "metadata": {},
   "outputs": [
    {
     "name": "stdout",
     "output_type": "stream",
     "text": [
      "raw data:                    High          Low         Open        Close   Volume  \\\n",
      "Date                                                                      \n",
      "2015-12-31   769.500000   758.340027   769.500000   758.880005  1500900   \n",
      "2016-01-04   744.059998   731.257996   743.000000   741.840027  3272800   \n",
      "2016-01-05   752.000000   738.640015   746.450012   742.580017  1950700   \n",
      "2016-01-06   747.179993   728.919983   730.000000   743.619995  1947000   \n",
      "2016-01-07   738.500000   719.059998   730.309998   726.390015  2963700   \n",
      "...                 ...          ...          ...          ...      ...   \n",
      "2020-12-24  1746.000000  1729.109985  1735.000000  1738.849976   346800   \n",
      "2020-12-28  1790.728027  1746.334961  1751.635010  1776.089966  1393000   \n",
      "2020-12-29  1792.439941  1756.089966  1787.790039  1758.719971  1299400   \n",
      "2020-12-30  1765.094971  1725.599976  1762.010010  1739.520020  1306100   \n",
      "2020-12-31  1758.930054  1735.420044  1735.420044  1751.880005  1011900   \n",
      "\n",
      "              Adj Close  \n",
      "Date                     \n",
      "2015-12-31   758.880005  \n",
      "2016-01-04   741.840027  \n",
      "2016-01-05   742.580017  \n",
      "2016-01-06   743.619995  \n",
      "2016-01-07   726.390015  \n",
      "...                 ...  \n",
      "2020-12-24  1738.849976  \n",
      "2020-12-28  1776.089966  \n",
      "2020-12-29  1758.719971  \n",
      "2020-12-30  1739.520020  \n",
      "2020-12-31  1751.880005  \n",
      "\n",
      "[1260 rows x 6 columns]\n",
      "Preprocessed data: [(Timestamp('2015-12-31 00:00:00'), 769.5, 758.3400268554688, 769.5, 758.8800048828125, 1500900, 758.8800048828125), (Timestamp('2016-01-04 00:00:00'), 744.0599975585938, 731.2579956054688, 743.0, 741.8400268554688, 3272800, 741.8400268554688), (Timestamp('2016-01-05 00:00:00'), 752.0, 738.6400146484375, 746.4500122070312, 742.5800170898438, 1950700, 742.5800170898438), (Timestamp('2016-01-06 00:00:00'), 747.1799926757812, 728.9199829101562, 730.0, 743.6199951171875, 1947000, 743.6199951171875), (Timestamp('2016-01-07 00:00:00'), 738.5, 719.0599975585938, 730.3099975585938, 726.3900146484375, 2963700, 726.3900146484375), (Timestamp('2016-01-08 00:00:00'), 733.22998046875, 713.0, 731.4500122070312, 714.469970703125, 2450900, 714.469970703125), (Timestamp('2016-01-11 00:00:00'), 718.85498046875, 703.5399780273438, 716.6099853515625, 716.030029296875, 2090600, 716.030029296875), (Timestamp('2016-01-12 00:00:00'), 728.75, 717.3170166015625, 721.6799926757812, 726.0700073242188, 2024500, 726.0700073242188), (Timestamp('2016-01-13 00:00:00'), 734.739990234375, 698.6099853515625, 730.8499755859375, 700.5599975585938, 2501700, 700.5599975585938), (Timestamp('2016-01-14 00:00:00'), 721.9249877929688, 689.0999755859375, 705.3800048828125, 714.719970703125, 2225800, 714.719970703125)]\n"
     ]
    }
   ],
   "source": [
    "import datetime\n",
    "import pandas_datareader.data as data\n",
    "\n",
    "# download data from Yahoo Finance\n",
    "start = datetime.datetime(2016, 1, 1)\n",
    "end = datetime.datetime(2020, 12, 31)\n",
    "google_data = data.DataReader(\"GOOG\", \"yahoo\", start, end)\n",
    "print(\"raw data:\", google_data)\n",
    "\n",
    "# create a 7-tuple containing the datetime, high price, low price, open price, close price, volume, and adj price \n",
    "prices = []\n",
    "for y in range(len(google_data)): \n",
    "    prices.append((google_data.index[y], google_data[\"High\"][y], google_data[\"Low\"][y], google_data[\"Open\"][y], \n",
    "                  google_data[\"Close\"][y], google_data[\"Volume\"][y], google_data[\"Adj Close\"][y]))\n",
    "print(\"Preprocessed data:\",prices[0:10])"
   ]
  },
  {
   "cell_type": "markdown",
   "id": "24117b80",
   "metadata": {},
   "source": [
    "## Insert data into mysql table"
   ]
  },
  {
   "cell_type": "code",
   "execution_count": 43,
   "id": "774934c9",
   "metadata": {
    "scrolled": true
   },
   "outputs": [
    {
     "name": "stdout",
     "output_type": "stream",
     "text": [
      "     price_date  open_price  high_price  low_price  close_price  \\\n",
      "0    2015-12-31    769.5000     758.340    769.500       758.88   \n",
      "1    2016-01-04    744.0600     731.258    743.000       741.84   \n",
      "2    2016-01-05    752.0000     738.640    746.450       742.58   \n",
      "3    2016-01-06    747.1800     728.920    730.000       743.62   \n",
      "4    2016-01-07    738.5000     719.060    730.310       726.39   \n",
      "...         ...         ...         ...        ...          ...   \n",
      "1255 2020-12-24   1746.0000    1729.110   1735.000      1738.85   \n",
      "1256 2020-12-28   1790.7280    1746.335   1751.635      1776.09   \n",
      "1257 2020-12-29   1792.4399    1756.090   1787.790      1758.72   \n",
      "1258 2020-12-30   1765.0950    1725.600   1762.010      1739.52   \n",
      "1259 2020-12-31   1758.9301    1735.420   1735.420      1751.88   \n",
      "\n",
      "      adjusted_close_price   volume  \n",
      "0                   758.88  1500900  \n",
      "1                   741.84  3272800  \n",
      "2                   742.58  1950700  \n",
      "3                   743.62  1947000  \n",
      "4                   726.39  2963700  \n",
      "...                    ...      ...  \n",
      "1255               1738.85   346800  \n",
      "1256               1776.09  1393000  \n",
      "1257               1758.72  1299400  \n",
      "1258               1739.52  1306100  \n",
      "1259               1751.88  1011900  \n",
      "\n",
      "[1260 rows x 7 columns]\n",
      "data saved in database!\n"
     ]
    }
   ],
   "source": [
    "import pandas as pd\n",
    "\n",
    "count = 0\n",
    "for data in prices:\n",
    "    daily_data = data[0], data[1], data[2], data[3], data[4], data[6], data[5]\n",
    "    \n",
    "    sql = \"\"\"INSERT INTO daily_google_price( price_date, open_price, high_price, low_price, \n",
    "        close_price, adjusted_close_price, volume) \n",
    "        VALUES ('%s', '%s', '%s', '%s', '%s', '%s', '%s')\"\"\" %(daily_data) \n",
    "    \n",
    "    # Obtain a database connection to the MySQL instance\n",
    "    db_host = 'localhost'\n",
    "    db_user = 'sec_user'\n",
    "    db_pass = '9008'\n",
    "    db_name = 'sql_master'\n",
    "    con = mdb.connect(db_host, db_user, db_pass, db_name)\n",
    " \n",
    "    with con: \n",
    "        cur = con.cursor()\n",
    "        cur.execute(sql)\n",
    "        con.commit()\n",
    "        count += 1\n",
    "        \n",
    "        # print the table when it is done inserting \n",
    "        if count == len(prices):\n",
    "            sql2 = \"SELECT * FROM daily_google_price\"\n",
    "            googling = pd.read_sql_query(sql2, con=con)#, index_col= 'price_date')\n",
    "            print(googling) \n",
    "            \n",
    "print(\"data saved in database!\")"
   ]
  },
  {
   "cell_type": "markdown",
   "id": "01fe0165",
   "metadata": {},
   "source": [
    "## Select data by Sorting in Descending Order "
   ]
  },
  {
   "cell_type": "code",
   "execution_count": 54,
   "id": "cc1490b4",
   "metadata": {},
   "outputs": [
    {
     "name": "stdout",
     "output_type": "stream",
     "text": [
      "     price_date  open_price  high_price  low_price  close_price  \\\n",
      "0    2020-12-03    1847.200   1822.6500    1824.01      1826.77   \n",
      "1    2020-12-02    1835.650   1789.4730    1798.10      1827.95   \n",
      "2    2020-12-09    1834.270   1767.8101    1812.01      1784.13   \n",
      "3    2020-12-04    1833.160   1816.9900    1824.52      1827.99   \n",
      "4    2020-12-07    1832.370   1805.7800    1819.00      1819.48   \n",
      "...         ...         ...         ...        ...          ...   \n",
      "1255 2016-02-11     689.350    668.8680     675.00       683.11   \n",
      "1256 2016-06-29     687.429    681.4100     683.00       684.11   \n",
      "1257 2016-02-08     684.030    663.0600     667.85       682.74   \n",
      "1258 2016-06-28     680.330    673.0000     678.97       680.04   \n",
      "1259 2016-06-27     672.300    663.2840     671.00       668.26   \n",
      "\n",
      "      adjusted_close_price   volume  \n",
      "0                  1826.77  1227300  \n",
      "1                  1827.95  1222000  \n",
      "2                  1784.13  1507600  \n",
      "3                  1827.99  1378200  \n",
      "4                  1819.48  1320900  \n",
      "...                    ...      ...  \n",
      "1255                683.11  3024000  \n",
      "1256                684.11  1932600  \n",
      "1257                682.74  4247400  \n",
      "1258                680.04  2173800  \n",
      "1259                668.26  2629000  \n",
      "\n",
      "[1260 rows x 7 columns]\n"
     ]
    }
   ],
   "source": [
    "# Obtain a database connection to the MySQL instance\n",
    "db_host = 'localhost'\n",
    "db_user = 'sec_user'\n",
    "db_pass = '9008'\n",
    "db_name = 'sql_master'\n",
    "con = mdb.connect(db_host, db_user, db_pass, db_name)\n",
    " \n",
    "with con: \n",
    "    cur = con.cursor()\n",
    "    sql2 = \"SELECT * FROM daily_google_price ORDER BY open_price DESC\"\n",
    "    cur.execute(sql2)\n",
    "    googling = pd.read_sql_query(sql2, con=con)#, index_col= 'price_date')\n",
    "    print(googling) "
   ]
  },
  {
   "cell_type": "markdown",
   "id": "924c6a17",
   "metadata": {},
   "source": [
    "## Select data by position "
   ]
  },
  {
   "cell_type": "code",
   "execution_count": 57,
   "id": "27a58f9b",
   "metadata": {},
   "outputs": [
    {
     "name": "stdout",
     "output_type": "stream",
     "text": [
      "  price_date  open_price  high_price  low_price  close_price  \\\n",
      "0 2020-12-09     1834.27   1767.8101    1812.01      1784.13   \n",
      "\n",
      "   adjusted_close_price   volume  \n",
      "0               1784.13  1507600  \n"
     ]
    }
   ],
   "source": [
    "# Obtain a database connection to the MySQL instance\n",
    "db_host = 'localhost'\n",
    "db_user = 'sec_user'\n",
    "db_pass = '9008'\n",
    "db_name = 'sql_master'\n",
    "con = mdb.connect(db_host, db_user, db_pass, db_name)\n",
    " \n",
    "with con: \n",
    "    cur = con.cursor()\n",
    "    # Select the largest second number on open price\n",
    "    sql2 = \"SELECT * FROM daily_google_price ORDER BY open_price DESC LIMIT 1 OFFSET 2\"\n",
    "    cur.execute(sql2)\n",
    "    #print(cur.fetchmany(size=2))\n",
    "    googling = pd.read_sql_query(sql2, con=con)#, index_col= 'price_date')\n",
    "    print(googling) "
   ]
  },
  {
   "cell_type": "markdown",
   "id": "0f9cef26",
   "metadata": {},
   "source": [
    "## Select data rows that have similar column value"
   ]
  },
  {
   "cell_type": "code",
   "execution_count": 64,
   "id": "9eb50619",
   "metadata": {},
   "outputs": [
    {
     "name": "stdout",
     "output_type": "stream",
     "text": [
      "Open prices that have multiple rows:\n",
      "   price_date  open_price  high_price  low_price  close_price  \\\n",
      "0  2016-07-21    741.6900    735.8310   740.3600     738.6300   \n",
      "1  2016-03-22    745.0000    737.4600   737.4600     740.7500   \n",
      "2  2016-02-03    774.5000    720.5000   770.2200     726.9500   \n",
      "3  2017-02-14    823.0000    816.0000   819.0000     820.4500   \n",
      "4  2017-10-30   1024.9700   1007.5000  1014.0000    1017.1100   \n",
      "5  2017-12-27   1058.3700   1048.0500  1057.3900    1049.3700   \n",
      "6  2018-06-07   1135.8199   1116.5200  1131.3199    1123.8600   \n",
      "7  2018-01-26   1175.8400   1158.1100  1175.0800    1175.8400   \n",
      "8  2018-09-12   1178.6100   1158.3600  1172.7200    1162.8199   \n",
      "9  2018-01-29   1186.8900   1171.9800  1176.4800    1175.5800   \n",
      "10 2019-08-20   1196.0601   1182.1100  1195.2500    1182.6899   \n",
      "11 2018-07-19   1200.0000   1183.3199  1191.0000    1186.9600   \n",
      "12 2018-08-16   1226.0000   1202.5500  1224.7300    1206.4900   \n",
      "13 2018-08-03   1230.0000   1215.0601  1229.6200    1223.7100   \n",
      "14 2020-02-03   1490.0000   1458.9900  1462.0000    1485.9399   \n",
      "\n",
      "    adjusted_close_price   volume  \n",
      "0               738.6300  1026300  \n",
      "1               740.7500  1269700  \n",
      "2               726.9500  6171000  \n",
      "3               820.4500  1054700  \n",
      "4              1017.1100  2085100  \n",
      "5              1049.3700  1271900  \n",
      "6              1123.8600  1520000  \n",
      "7              1175.8400  2018800  \n",
      "8              1162.8199  1295500  \n",
      "9              1175.5800  1378900  \n",
      "10             1182.6899   915500  \n",
      "11             1186.9600  1276700  \n",
      "12             1206.4900  1343200  \n",
      "13             1223.7100  1089600  \n",
      "14             1485.9399  3036800  \n",
      "\n",
      "\n",
      "Rows that have the same 741.69 open price:\n",
      "  price_date  open_price  high_price  low_price  close_price  \\\n",
      "0 2016-07-21      741.69     735.831     740.36       738.63   \n",
      "1 2016-07-26      741.69     734.270     739.04       738.42   \n",
      "\n",
      "   adjusted_close_price   volume  \n",
      "0                738.63  1026300  \n",
      "1                738.42  1186700  \n"
     ]
    }
   ],
   "source": [
    "# Obtain a database connection to the MySQL instance\n",
    "db_host = 'localhost'\n",
    "db_user = 'sec_user'\n",
    "db_pass = '9008'\n",
    "db_name = 'sql_master'\n",
    "con = mdb.connect(db_host, db_user, db_pass, db_name)\n",
    " \n",
    "with con: \n",
    "    cur = con.cursor()\n",
    "    # Check the open prices that have multiple rows in our data\n",
    "    # in other words, multiple days that have the same open price\n",
    "    print(\"Open prices that have multiple rows:\")\n",
    "    sql2 = \"SELECT * FROM daily_google_price GROUP BY open_price HAVING count(open_price)>1\"\n",
    "    cur.execute(sql2)\n",
    "    googling = pd.read_sql_query(sql2, con=con)#, index_col= 'price_date')\n",
    "    print(googling)\n",
    "    print(\"\\n\")\n",
    "    \n",
    "    cur = con.cursor()\n",
    "    # verify the open price (741.69) to find out how many rows have the same price \n",
    "    print(\"Rows that have the same 741.69 open price:\")\n",
    "    sql = \"SELECT * FROM daily_google_price WHERE open_price=741.6900\"\n",
    "    cur.execute(sql)\n",
    "    googling = pd.read_sql_query(sql, con=con)#, index_col= 'price_date')\n",
    "    print(googling)"
   ]
  },
  {
   "cell_type": "markdown",
   "id": "b8eab4e8",
   "metadata": {},
   "source": [
    "## Delete row that satisfied the condition"
   ]
  },
  {
   "cell_type": "code",
   "execution_count": 71,
   "id": "2bbc3cee",
   "metadata": {},
   "outputs": [
    {
     "name": "stdout",
     "output_type": "stream",
     "text": [
      "            open_price  high_price  low_price  close_price  \\\n",
      "price_date                                                   \n",
      "2016-01-26    718.2800     706.480    713.850       713.04   \n",
      "2016-03-09    705.6800     694.000    698.470       705.24   \n",
      "2016-03-22    745.0000     737.460    737.460       740.75   \n",
      "2016-03-23    745.7200     736.150    742.360       738.06   \n",
      "2016-03-28    738.9900     732.500    736.790       733.53   \n",
      "...                ...         ...        ...          ...   \n",
      "2020-12-24   1746.0000    1729.110   1735.000      1738.85   \n",
      "2020-12-28   1790.7280    1746.335   1751.635      1776.09   \n",
      "2020-12-29   1792.4399    1756.090   1787.790      1758.72   \n",
      "2020-12-30   1765.0950    1725.600   1762.010      1739.52   \n",
      "2020-12-31   1758.9301    1735.420   1735.420      1751.88   \n",
      "\n",
      "            adjusted_close_price   volume  \n",
      "price_date                                 \n",
      "2016-01-26                713.04  1331700  \n",
      "2016-03-09                705.24  1421500  \n",
      "2016-03-22                740.75  1269700  \n",
      "2016-03-23                738.06  1432100  \n",
      "2016-03-28                733.53  1301300  \n",
      "...                          ...      ...  \n",
      "2020-12-24               1738.85   346800  \n",
      "2020-12-28               1776.09  1393000  \n",
      "2020-12-29               1758.72  1299400  \n",
      "2020-12-30               1739.52  1306100  \n",
      "2020-12-31               1751.88  1011900  \n",
      "\n",
      "[663 rows x 6 columns]\n"
     ]
    }
   ],
   "source": [
    "# Obtain a database connection to the MySQL instance\n",
    "db_host = 'localhost'\n",
    "db_user = 'sec_user'\n",
    "db_pass = '9008'\n",
    "db_name = 'sql_master'\n",
    "con = mdb.connect(db_host, db_user, db_pass, db_name)\n",
    "    \n",
    "sql = \"\"\"DELETE FROM daily_google_price WHERE volume>1500000\"\"\"\n",
    "with con:\n",
    "    cur = con.cursor()\n",
    "    cur.execute(sql)\n",
    "    con.commit()\n",
    "    sql2 = \"SELECT * FROM daily_google_price\"\n",
    "    googling = pd.read_sql_query(sql2, con=con, index_col= 'price_date')\n",
    "    print(googling)\n",
    "    \n"
   ]
  },
  {
   "cell_type": "markdown",
   "id": "b35f6161",
   "metadata": {},
   "source": [
    "**Note:** Notice from the output above, when we specify delete rows with volume > 1500000 , we deleted nearly half of the data, from 1260 rows to 663 rows.  "
   ]
  },
  {
   "cell_type": "markdown",
   "id": "75a95baa",
   "metadata": {},
   "source": [
    "## Add new column to table"
   ]
  },
  {
   "cell_type": "code",
   "execution_count": 65,
   "id": "f2a6c268",
   "metadata": {},
   "outputs": [
    {
     "name": "stdout",
     "output_type": "stream",
     "text": [
      "            open_price  high_price  low_price  close_price  \\\n",
      "price_date                                                   \n",
      "2015-12-31    769.5000     758.340    769.500       758.88   \n",
      "2016-01-04    744.0600     731.258    743.000       741.84   \n",
      "2016-01-05    752.0000     738.640    746.450       742.58   \n",
      "2016-01-06    747.1800     728.920    730.000       743.62   \n",
      "2016-01-07    738.5000     719.060    730.310       726.39   \n",
      "...                ...         ...        ...          ...   \n",
      "2020-12-24   1746.0000    1729.110   1735.000      1738.85   \n",
      "2020-12-28   1790.7280    1746.335   1751.635      1776.09   \n",
      "2020-12-29   1792.4399    1756.090   1787.790      1758.72   \n",
      "2020-12-30   1765.0950    1725.600   1762.010      1739.52   \n",
      "2020-12-31   1758.9301    1735.420   1735.420      1751.88   \n",
      "\n",
      "            adjusted_close_price   volume Exchange  \n",
      "price_date                                          \n",
      "2015-12-31                758.88  1500900   NASDAQ  \n",
      "2016-01-04                741.84  3272800   NASDAQ  \n",
      "2016-01-05                742.58  1950700   NASDAQ  \n",
      "2016-01-06                743.62  1947000   NASDAQ  \n",
      "2016-01-07                726.39  2963700   NASDAQ  \n",
      "...                          ...      ...      ...  \n",
      "2020-12-24               1738.85   346800   NASDAQ  \n",
      "2020-12-28               1776.09  1393000   NASDAQ  \n",
      "2020-12-29               1758.72  1299400   NASDAQ  \n",
      "2020-12-30               1739.52  1306100   NASDAQ  \n",
      "2020-12-31               1751.88  1011900   NASDAQ  \n",
      "\n",
      "[1260 rows x 7 columns]\n"
     ]
    }
   ],
   "source": [
    "# Obtain a database connection to the MySQL instance\n",
    "db_host = 'localhost'\n",
    "db_user = 'sec_user'\n",
    "db_pass = '9008'\n",
    "db_name = 'sql_master'\n",
    "con = mdb.connect(db_host, db_user, db_pass, db_name)\n",
    "    \n",
    "sql = \"\"\"ALTER TABLE daily_google_price ADD Exchange Varchar(255) \"\"\"\n",
    "sql2 = \"\"\"UPDATE daily_google_price SET Exchange = 'NASDAQ' \"\"\"\n",
    "\n",
    "cur = con.cursor()\n",
    "cur.execute(sql)\n",
    "cur.execute(sql2)\n",
    "con.commit()\n",
    "\n",
    "googling = pd.read_sql_query(\"SELECT * FROM daily_google_price\", con=con, index_col= 'price_date')\n",
    "print(googling)"
   ]
  },
  {
   "cell_type": "markdown",
   "id": "2ba2434c",
   "metadata": {},
   "source": [
    "## Delete column from mysql table"
   ]
  },
  {
   "cell_type": "code",
   "execution_count": 12,
   "id": "0856b039",
   "metadata": {},
   "outputs": [
    {
     "name": "stdout",
     "output_type": "stream",
     "text": [
      "            open_price  high_price  low_price  close_price  \\\n",
      "price_date                                                   \n",
      "2016-01-26    718.2800     706.480    713.850       713.04   \n",
      "2016-03-09    705.6800     694.000    698.470       705.24   \n",
      "2016-03-22    745.0000     737.460    737.460       740.75   \n",
      "2016-03-23    745.7200     736.150    742.360       738.06   \n",
      "2016-03-28    738.9900     732.500    736.790       733.53   \n",
      "...                ...         ...        ...          ...   \n",
      "2020-12-24   1746.0000    1729.110   1735.000      1738.85   \n",
      "2020-12-28   1790.7280    1746.335   1751.635      1776.09   \n",
      "2020-12-29   1792.4399    1756.090   1787.790      1758.72   \n",
      "2020-12-30   1765.0950    1725.600   1762.010      1739.52   \n",
      "2020-12-31   1758.9301    1735.420   1735.420      1751.88   \n",
      "\n",
      "            adjusted_close_price   volume  \n",
      "price_date                                 \n",
      "2016-01-26                713.04  1331700  \n",
      "2016-03-09                705.24  1421500  \n",
      "2016-03-22                740.75  1269700  \n",
      "2016-03-23                738.06  1432100  \n",
      "2016-03-28                733.53  1301300  \n",
      "...                          ...      ...  \n",
      "2020-12-24               1738.85   346800  \n",
      "2020-12-28               1776.09  1393000  \n",
      "2020-12-29               1758.72  1299400  \n",
      "2020-12-30               1739.52  1306100  \n",
      "2020-12-31               1751.88  1011900  \n",
      "\n",
      "[663 rows x 6 columns]\n"
     ]
    }
   ],
   "source": [
    "# Obtain a database connection to the MySQL instance\n",
    "db_host = 'localhost'\n",
    "db_user = 'sec_user'\n",
    "db_pass = '9008'\n",
    "db_name = 'sql_master'\n",
    "con = mdb.connect(db_host, db_user, db_pass, db_name)\n",
    "    \n",
    "sql = \"\"\"ALTER TABLE daily_google_price DROP Exchange\"\"\"\n",
    "\n",
    "cur = con.cursor()\n",
    "cur.execute(sql)\n",
    "con.commit()\n",
    "\n",
    "googling = pd.read_sql_query(\"SELECT * FROM daily_google_price\", con=con, index_col= 'price_date')\n",
    "print(googling)"
   ]
  },
  {
   "cell_type": "markdown",
   "id": "ccb42c70",
   "metadata": {},
   "source": [
    "## Drop tables in your database"
   ]
  },
  {
   "cell_type": "code",
   "execution_count": 30,
   "id": "fe5fdd57",
   "metadata": {},
   "outputs": [
    {
     "name": "stdout",
     "output_type": "stream",
     "text": [
      "Here's the tables we have in our database: \n",
      "(('‘daily_price‘',), ('daily_google_price',))\n",
      "Drop table in progress...\n",
      "\n",
      "Database table: \n",
      "(('‘daily_price‘',),)\n",
      "We have dropped the daily google price table!!\n"
     ]
    }
   ],
   "source": [
    "db_host = 'localhost'\n",
    "db_user = 'sec_user'\n",
    "db_pass = '9008'\n",
    "db_name = 'sql_master'\n",
    "con = mdb.connect(db_host, db_user, db_pass, db_name)\n",
    "\n",
    "# See existing tables in your database\n",
    "cur = con.cursor()\n",
    "cur.execute(\"\"\"SHOW Tables\"\"\")\n",
    "print(\"Here's the tables we have in our database: \")\n",
    "print(cur.fetchall())\n",
    "\n",
    "cur.execute(\"\"\"DROP TABLE daily_google_price\"\"\")\n",
    "con.commit()\n",
    "print(\"Drop table in progress...\\n\")\n",
    "\n",
    "# Check our database table now\n",
    "print(\"Database table: \")\n",
    "cur.execute(\"\"\"SHOW Tables\"\"\")\n",
    "print(cur.fetchall())\n",
    "print(\"We have dropped the daily google price table!!\")"
   ]
  },
  {
   "cell_type": "markdown",
   "id": "726028fe",
   "metadata": {},
   "source": [
    "# Lets try MongoDB\n",
    "Before we start connecting to MongoDB in python, make sure you have installed MongoDB, and successfully run `sudo mongod` on your terminal to accept connection from the 27017 port. Below MongoDB database tutorial for python is inspired by **https://www.tutorialspoint.com/python_data_access/**, and it is also a self-learning practice. After you are done, it is wise to run `ps wuax | grep mongo` and `sudo kill (instance number)` to terminate the connection completely. "
   ]
  },
  {
   "cell_type": "markdown",
   "id": "d74abb42",
   "metadata": {},
   "source": [
    "## Create Database and Collection, then insert data into Collection"
   ]
  },
  {
   "cell_type": "code",
   "execution_count": 33,
   "id": "20903fd5",
   "metadata": {},
   "outputs": [
    {
     "name": "stdout",
     "output_type": "stream",
     "text": [
      "Database created!\n",
      "List of Mongo databases:\n",
      "['local', 'mongo_database']\n",
      "\n",
      "\n",
      "collection(mongodb_table) created!\n",
      "Data inserted!\n",
      "{'_id': ObjectId('612da6aa261ab319fa8517c2'), 'id': '101', 'stock': 'Google', 'price': '26', 'exchange': 'London'}\n",
      "{'_id': ObjectId('612da6aa261ab319fa8517c3'), 'id': '102', 'stock': 'Facebook', 'price': '27', 'exchange': 'Nasdaq'}\n",
      "{'_id': ObjectId('612da6aa261ab319fa8517c4'), 'id': '103', 'stock': 'Microsoft', 'price': '28', 'exchange': 'Dow'}\n"
     ]
    }
   ],
   "source": [
    "import pymongo\n",
    "from pymongo import MongoClient\n",
    "\n",
    "#Creating a pymongo client\n",
    "client = MongoClient('localhost', 27017)\n",
    "\n",
    "#Getting the database instance\n",
    "db = client['mongo_database']\n",
    "print(\"Database created!\")\n",
    "\n",
    "#Verification\n",
    "print(\"List of Mongo databases:\")\n",
    "print(client.list_database_names())\n",
    "print(\"\\n\")\n",
    "\n",
    "#Creating a collection \n",
    "collection = db['mongodb_table']\n",
    "print(\"collection(mongodb_table) created!\")\n",
    "\n",
    "data = [\n",
    "   {\n",
    "      \"id\": \"101\", \n",
    "      \"stock\": \"Google\", \n",
    "      \"price\": \"26\", \n",
    "      \"exchange\": \"London\"\n",
    "   },\n",
    "   {\n",
    "      \"id\": \"102\", \n",
    "      \"stock\": \"Facebook\", \n",
    "      \"price\": \"27\", \n",
    "      \"exchange\": \"Nasdaq\"\n",
    "   },\n",
    "   {\n",
    "      \"id\": \"103\", \n",
    "      \"stock\": \"Microsoft\", \n",
    "      \"price\": \"28\", \n",
    "      \"exchange\": \"Dow\"\n",
    "   }\n",
    "]\n",
    "\n",
    "res = collection.insert_many(data)\n",
    "print(\"Data inserted!\")\n",
    "for record in collection.find():\n",
    "    print(record)"
   ]
  },
  {
   "cell_type": "markdown",
   "id": "9d4b13a8",
   "metadata": {},
   "source": [
    "## Retrieve data from Mongo Collection"
   ]
  },
  {
   "cell_type": "code",
   "execution_count": 35,
   "id": "d7e99dce",
   "metadata": {
    "scrolled": true
   },
   "outputs": [
    {
     "name": "stdout",
     "output_type": "stream",
     "text": [
      "all record data:\n",
      "{'_id': ObjectId('612da6aa261ab319fa8517c2'), 'id': '101', 'stock': 'Google', 'price': '26', 'exchange': 'London'}\n",
      "{'_id': ObjectId('612da6aa261ab319fa8517c3'), 'id': '102', 'stock': 'Facebook', 'price': '27', 'exchange': 'Nasdaq'}\n",
      "{'_id': ObjectId('612da6aa261ab319fa8517c4'), 'id': '103', 'stock': 'Microsoft', 'price': '28', 'exchange': 'Dow'}\n",
      "\n",
      "\n",
      "Record for google: \n",
      "{'_id': ObjectId('612da6aa261ab319fa8517c2'), 'id': '101', 'stock': 'Google', 'price': '26', 'exchange': 'London'}\n",
      "\n",
      "\n",
      "Retrieve Stock price greater than 26:\n",
      "{'_id': ObjectId('612da6aa261ab319fa8517c3'), 'id': '102', 'stock': 'Facebook', 'price': '27', 'exchange': 'Nasdaq'}\n",
      "{'_id': ObjectId('612da6aa261ab319fa8517c4'), 'id': '103', 'stock': 'Microsoft', 'price': '28', 'exchange': 'Dow'}\n"
     ]
    }
   ],
   "source": [
    "#Retrieving all our data \n",
    "print(\"all record data:\")\n",
    "for record in collection.find():\n",
    "    print(record)\n",
    "print(\"\\n\")\n",
    "\n",
    "#Retrieving a record for Google stock using the find_one() method\n",
    "print(\"Record for google: \")\n",
    "print(collection.find_one({\"exchange\": \"London\"}))\n",
    "print(\"\\n\")\n",
    "\n",
    "# Retrieving record that has stock price greater than 26 \n",
    "print(\"Retrieve Stock price greater than 26:\")\n",
    "for i in collection.find({\"price\":{\"$gt\":\"26\"}}):\n",
    "    print(i)"
   ]
  },
  {
   "cell_type": "markdown",
   "id": "3be5a718",
   "metadata": {},
   "source": [
    "## Delete rows that satisfy the condition"
   ]
  },
  {
   "cell_type": "code",
   "execution_count": 36,
   "id": "784e8793",
   "metadata": {},
   "outputs": [
    {
     "name": "stdout",
     "output_type": "stream",
     "text": [
      "After deleting the row, we have:\n",
      "{'_id': ObjectId('612da6aa261ab319fa8517c2'), 'id': '101', 'stock': 'Google', 'price': '26', 'exchange': 'London'}\n",
      "{'_id': ObjectId('612da6aa261ab319fa8517c3'), 'id': '102', 'stock': 'Facebook', 'price': '27', 'exchange': 'Nasdaq'}\n"
     ]
    }
   ],
   "source": [
    "#Deleting multiple documents\n",
    "collection.delete_many({\"stock\":\"Microsoft\"})\n",
    "print(\"After deleting the row, we have:\")\n",
    "for i in collection.find():\n",
    "    print(i)"
   ]
  },
  {
   "cell_type": "markdown",
   "id": "01606799",
   "metadata": {},
   "source": [
    "## Add one column to the table"
   ]
  },
  {
   "cell_type": "code",
   "execution_count": 39,
   "id": "80f8c386",
   "metadata": {},
   "outputs": [
    {
     "name": "stdout",
     "output_type": "stream",
     "text": [
      "After Adding volume column:\n",
      "{'_id': ObjectId('612da6aa261ab319fa8517c2'), 'id': '101', 'stock': 'Google', 'price': '26', 'exchange': 'London', 'volume': '10000'}\n",
      "{'_id': ObjectId('612da6aa261ab319fa8517c3'), 'id': '102', 'stock': 'Facebook', 'price': '27', 'exchange': 'Nasdaq', 'volume': '10000'}\n"
     ]
    }
   ],
   "source": [
    "collection.update_many({},{\"$set\":{\"volume\":\"10000\"}})\n",
    "print(\"After Adding volume column:\")\n",
    "for i in collection.find():\n",
    "    print(i)"
   ]
  },
  {
   "cell_type": "markdown",
   "id": "b192b518",
   "metadata": {},
   "source": [
    "## Delete other collection in our Mongo Database "
   ]
  },
  {
   "cell_type": "code",
   "execution_count": 37,
   "id": "a4ea15f5",
   "metadata": {},
   "outputs": [
    {
     "name": "stdout",
     "output_type": "stream",
     "text": [
      "['mongo_db', 'mongo_table', 'mongodb_table', 'system.indexes']\n"
     ]
    }
   ],
   "source": [
    "print(db.list_collection_names())"
   ]
  },
  {
   "cell_type": "code",
   "execution_count": 38,
   "id": "f4e2806f",
   "metadata": {},
   "outputs": [
    {
     "name": "stdout",
     "output_type": "stream",
     "text": [
      "Collection in our database:\n",
      "['mongo_db', 'mongo_table', 'mongodb_table', 'system.indexes']\n",
      "\n",
      "\n",
      "After dropping one of them:\n",
      "['mongo_table', 'mongodb_table', 'system.indexes']\n"
     ]
    }
   ],
   "source": [
    "print(\"Collection in our database:\")\n",
    "print(db.list_collection_names())\n",
    "print(\"\\n\")\n",
    "example = db['mongo_db']\n",
    "example.drop()\n",
    "print(\"After dropping one of them:\")\n",
    "print(db.list_collection_names())"
   ]
  },
  {
   "cell_type": "markdown",
   "id": "651717da",
   "metadata": {},
   "source": [
    "### MySQL versus MongoDB:  \n",
    "MySQL represents data in tables and rows, while MongoDB represents data as of JSON documents. Additionally, MySQL uses SQL as query language, while MongoDB uses Javascript. Hence, MySQL is better suited for structured data while MongoDB can handle unstructured data. "
   ]
  },
  {
   "cell_type": "code",
   "execution_count": null,
   "id": "240fef08",
   "metadata": {},
   "outputs": [],
   "source": []
  }
 ],
 "metadata": {
  "kernelspec": {
   "display_name": "Python 3 (ipykernel)",
   "language": "python",
   "name": "python3"
  },
  "language_info": {
   "codemirror_mode": {
    "name": "ipython",
    "version": 3
   },
   "file_extension": ".py",
   "mimetype": "text/x-python",
   "name": "python",
   "nbconvert_exporter": "python",
   "pygments_lexer": "ipython3",
   "version": "3.9.6"
  }
 },
 "nbformat": 4,
 "nbformat_minor": 5
}
